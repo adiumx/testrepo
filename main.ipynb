{
 "metadata": {
  "language_info": {
   "codemirror_mode": {
    "name": "ipython",
    "version": 3
   },
   "file_extension": ".py",
   "mimetype": "text/x-python",
   "name": "python",
   "nbconvert_exporter": "python",
   "pygments_lexer": "ipython3",
   "version": "3.9.1"
  },
  "orig_nbformat": 2,
  "kernelspec": {
   "name": "python391jvsc74a57bd092a461d01a427e9db73371be4c2319729cbaf77cfae486269f163b6384719eed",
   "display_name": "Python 3.9.1 64-bit"
  },
  "metadata": {
   "interpreter": {
    "hash": "92a461d01a427e9db73371be4c2319729cbaf77cfae486269f163b6384719eed"
   }
  }
 },
 "nbformat": 4,
 "nbformat_minor": 2,
 "cells": [
  {
   "cell_type": "code",
   "execution_count": 1,
   "metadata": {},
   "outputs": [],
   "source": [
    "from sklearn.metrics.pairwise import cosine_similarity\n",
    "import numpy as np"
   ]
  },
  {
   "cell_type": "code",
   "execution_count": 3,
   "metadata": {},
   "outputs": [
    {
     "output_type": "stream",
     "name": "stdout",
     "text": [
      "[[0.77459667]]\n"
     ]
    }
   ],
   "source": [
    "vec1 = np.array([[2,0,1]])\n",
    "vec2 = np.array([[1,1,1]])\n",
    "\n",
    "print(cosine_similarity(vec1,vec2))"
   ]
  },
  {
   "cell_type": "code",
   "execution_count": 10,
   "metadata": {},
   "outputs": [
    {
     "output_type": "stream",
     "name": "stdout",
     "text": [
      "  (0, 6)\t1\n  (0, 4)\t1\n  (0, 0)\t1\n  (0, 1)\t1\n  (1, 6)\t1\n  (1, 4)\t1\n  (1, 5)\t1\n  (1, 3)\t1\n  (2, 6)\t1\n  (2, 4)\t1\n  (2, 0)\t1\n  (2, 3)\t1\n  (3, 6)\t1\n  (3, 4)\t1\n  (3, 0)\t1\n  (3, 2)\t1\n  (4, 6)\t1\n  (4, 4)\t1\n  (4, 0)\t1\n  (4, 1)\t1\n  (5, 6)\t1\n  (5, 4)\t1\n  (5, 1)\t1\n"
     ]
    }
   ],
   "source": [
    "from stop_words import get_stop_words\n",
    "stop_words = get_stop_words('spanish')\n",
    "from sklearn.feature_extraction.text import CountVectorizer\n",
    "vectorizer= CountVectorizer()\n",
    "data=['yo quiero aquel gato','yo quiero un perro','yo quiero aquel perro','yo quiero aquel perico','yo quiero aquel gato','yo quiero gato']\n",
    "x = vectorizer.fit_transform(data)\n",
    "print(x)"
   ]
  },
  {
   "cell_type": "code",
   "execution_count": 15,
   "metadata": {},
   "outputs": [
    {
     "output_type": "stream",
     "name": "stdout",
     "text": [
      "{'yo': 6, 'quiero': 4, 'aquel': 0, 'gato': 1, 'un': 5, 'perro': 3, 'perico': 2}\n"
     ]
    }
   ],
   "source": [
    "print(vectorizer.vocabulary_)"
   ]
  },
  {
   "cell_type": "code",
   "execution_count": 19,
   "metadata": {},
   "outputs": [
    {
     "output_type": "stream",
     "name": "stdout",
     "text": [
      "  (0, 1)\t0.6254213861431024\n  (0, 0)\t0.5359386108009961\n  (0, 4)\t0.4010099096079416\n  (0, 6)\t0.4010099096079416\n  (1, 3)\t0.5704294876706609\n  (1, 5)\t0.6956335810906521\n  (1, 4)\t0.3087912891054266\n  (1, 6)\t0.3087912891054266\n  (2, 3)\t0.6885109828286826\n  (2, 0)\t0.49811989332702694\n  (2, 4)\t0.37271248865321965\n  (2, 6)\t0.37271248865321965\n  (3, 2)\t0.7567835848422869\n  (3, 0)\t0.4489687838520905\n  (3, 4)\t0.3359357355504412\n  (3, 6)\t0.3359357355504412\n  (4, 1)\t0.6254213861431024\n  (4, 0)\t0.5359386108009961\n  (4, 4)\t0.4010099096079416\n  (4, 6)\t0.4010099096079416\n  (5, 1)\t0.7407950656587929\n  (5, 4)\t0.47498561593778005\n  (5, 6)\t0.47498561593778005\n"
     ]
    }
   ],
   "source": [
    "from sklearn.feature_extraction.text import TfidfVectorizer\n",
    "tfidf= TfidfVectorizer().fit_transform(data)\n",
    "print(tfidf)"
   ]
  },
  {
   "cell_type": "code",
   "execution_count": 17,
   "metadata": {},
   "outputs": [
    {
     "output_type": "stream",
     "name": "stdout",
     "text": [
      "[1.         0.24765673 0.56588449 0.51004682 1.         0.84425695]\n"
     ]
    }
   ],
   "source": [
    "from sklearn.metrics.pairwise import cosine_similarity\n",
    "print(cosine_similarity(tfidf[0:1], tfidf).flatten())"
   ]
  }
 ]
}